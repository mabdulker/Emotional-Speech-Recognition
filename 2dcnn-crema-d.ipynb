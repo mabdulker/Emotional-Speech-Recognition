{
 "cells": [
  {
   "cell_type": "markdown",
   "id": "a3dee311",
   "metadata": {
    "papermill": {
     "duration": 0.011282,
     "end_time": "2022-09-15T16:34:08.017276",
     "exception": false,
     "start_time": "2022-09-15T16:34:08.005994",
     "status": "completed"
    },
    "tags": []
   },
   "source": [
    "### Imports"
   ]
  },
  {
   "cell_type": "code",
   "execution_count": 1,
   "id": "960edb1d",
   "metadata": {
    "execution": {
     "iopub.execute_input": "2022-09-15T16:34:08.041077Z",
     "iopub.status.busy": "2022-09-15T16:34:08.040056Z",
     "iopub.status.idle": "2022-09-15T16:34:18.460160Z",
     "shell.execute_reply": "2022-09-15T16:34:18.458571Z"
    },
    "papermill": {
     "duration": 10.436275,
     "end_time": "2022-09-15T16:34:18.464331",
     "exception": false,
     "start_time": "2022-09-15T16:34:08.028056",
     "status": "completed"
    },
    "tags": []
   },
   "outputs": [],
   "source": [
    "import pandas as pd\n",
    "import numpy as np\n",
    "\n",
    "import os\n",
    "\n",
    "import matplotlib.pyplot as plt\n",
    "import seaborn as sns\n",
    "import librosa\n",
    "import librosa.display\n",
    "\n",
    "from IPython.display import Audio\n",
    "\n",
    "from sklearn.preprocessing import StandardScaler, OneHotEncoder\n",
    "from sklearn.metrics import confusion_matrix, classification_report\n",
    "from sklearn.model_selection import train_test_split\n",
    "\n",
    "import keras\n",
    "from keras.callbacks import ReduceLROnPlateau\n",
    "from keras import backend as K\n",
    "from keras.models import Sequential\n",
    "from keras.layers import Dense, Conv1D, MaxPooling1D, Flatten, Dropout, BatchNormalization, Activation\n",
    "from tensorflow.keras.utils import to_categorical\n",
    "from keras.callbacks import ModelCheckpoint\n",
    "\n",
    "from keras.utils.generic_utils import get_custom_objects"
   ]
  },
  {
   "cell_type": "code",
   "execution_count": 2,
   "id": "cbc4006b",
   "metadata": {
    "_kg_hide-output": true,
    "execution": {
     "iopub.execute_input": "2022-09-15T16:34:18.487279Z",
     "iopub.status.busy": "2022-09-15T16:34:18.486612Z",
     "iopub.status.idle": "2022-09-15T16:34:19.570892Z",
     "shell.execute_reply": "2022-09-15T16:34:19.569880Z"
    },
    "papermill": {
     "duration": 1.099337,
     "end_time": "2022-09-15T16:34:19.573755",
     "exception": false,
     "start_time": "2022-09-15T16:34:18.474418",
     "status": "completed"
    },
    "tags": []
   },
   "outputs": [],
   "source": [
    "CREMA = \"../input/speech-emotion-recognition-en/Crema/\"\n",
    "\n",
    "file_list = os.listdir(CREMA)\n",
    "file_list.sort()"
   ]
  },
  {
   "cell_type": "markdown",
   "id": "2410c891",
   "metadata": {
    "papermill": {
     "duration": 0.009835,
     "end_time": "2022-09-15T16:34:19.594000",
     "exception": false,
     "start_time": "2022-09-15T16:34:19.584165",
     "status": "completed"
    },
    "tags": []
   },
   "source": [
    "### Pre-Processing"
   ]
  },
  {
   "cell_type": "code",
   "execution_count": 3,
   "id": "39bbce07",
   "metadata": {
    "execution": {
     "iopub.execute_input": "2022-09-15T16:34:19.619324Z",
     "iopub.status.busy": "2022-09-15T16:34:19.618500Z",
     "iopub.status.idle": "2022-09-15T16:34:19.695219Z",
     "shell.execute_reply": "2022-09-15T16:34:19.693917Z"
    },
    "papermill": {
     "duration": 0.092103,
     "end_time": "2022-09-15T16:34:19.698348",
     "exception": false,
     "start_time": "2022-09-15T16:34:19.606245",
     "status": "completed"
    },
    "tags": []
   },
   "outputs": [
    {
     "data": {
      "text/html": [
       "<div>\n",
       "<style scoped>\n",
       "    .dataframe tbody tr th:only-of-type {\n",
       "        vertical-align: middle;\n",
       "    }\n",
       "\n",
       "    .dataframe tbody tr th {\n",
       "        vertical-align: top;\n",
       "    }\n",
       "\n",
       "    .dataframe thead th {\n",
       "        text-align: right;\n",
       "    }\n",
       "</style>\n",
       "<table border=\"1\" class=\"dataframe\">\n",
       "  <thead>\n",
       "    <tr style=\"text-align: right;\">\n",
       "      <th></th>\n",
       "      <th>labels</th>\n",
       "      <th>source</th>\n",
       "      <th>path</th>\n",
       "    </tr>\n",
       "  </thead>\n",
       "  <tbody>\n",
       "    <tr>\n",
       "      <th>0</th>\n",
       "      <td>angry</td>\n",
       "      <td>CREMA</td>\n",
       "      <td>../input/speech-emotion-recognition-en/Crema/1...</td>\n",
       "    </tr>\n",
       "    <tr>\n",
       "      <th>1</th>\n",
       "      <td>disgust</td>\n",
       "      <td>CREMA</td>\n",
       "      <td>../input/speech-emotion-recognition-en/Crema/1...</td>\n",
       "    </tr>\n",
       "    <tr>\n",
       "      <th>2</th>\n",
       "      <td>fear</td>\n",
       "      <td>CREMA</td>\n",
       "      <td>../input/speech-emotion-recognition-en/Crema/1...</td>\n",
       "    </tr>\n",
       "    <tr>\n",
       "      <th>3</th>\n",
       "      <td>happy</td>\n",
       "      <td>CREMA</td>\n",
       "      <td>../input/speech-emotion-recognition-en/Crema/1...</td>\n",
       "    </tr>\n",
       "    <tr>\n",
       "      <th>4</th>\n",
       "      <td>neutral</td>\n",
       "      <td>CREMA</td>\n",
       "      <td>../input/speech-emotion-recognition-en/Crema/1...</td>\n",
       "    </tr>\n",
       "  </tbody>\n",
       "</table>\n",
       "</div>"
      ],
      "text/plain": [
       "    labels source                                               path\n",
       "0    angry  CREMA  ../input/speech-emotion-recognition-en/Crema/1...\n",
       "1  disgust  CREMA  ../input/speech-emotion-recognition-en/Crema/1...\n",
       "2     fear  CREMA  ../input/speech-emotion-recognition-en/Crema/1...\n",
       "3    happy  CREMA  ../input/speech-emotion-recognition-en/Crema/1...\n",
       "4  neutral  CREMA  ../input/speech-emotion-recognition-en/Crema/1..."
      ]
     },
     "execution_count": 3,
     "metadata": {},
     "output_type": "execute_result"
    }
   ],
   "source": [
    "decodeDict = {\"SAD\":\"sad\", \"ANG\":\"angry\", \"DIS\":\"disgust\", \"FEA\":\"fear\", \"HAP\":\"happy\", \"NEU\":\"neutral\"}\n",
    "emotion = [] \n",
    "path = []\n",
    "\n",
    "for file in file_list:\n",
    "    part = file.split('_')\n",
    "    path.append(CREMA + file)\n",
    "    temp = ('female' if int(part[0]) in range(1002, 1092) else 'male') # Not used\n",
    "    emotion.append(f'{decodeDict[part[2]]}')\n",
    "\n",
    "# Organisation of DataFrame\n",
    "CREMA_df = pd.DataFrame(emotion, columns = ['labels'])\n",
    "CREMA_df['source'] = 'CREMA'\n",
    "CREMA_df = pd.concat([CREMA_df,pd.DataFrame(path, columns = ['path'])],axis=1)\n",
    "\n",
    "# Conversion to CSV\n",
    "CREMA_df.to_csv(\"crema.csv\", index=False)\n",
    "CREMA_df.head()"
   ]
  },
  {
   "cell_type": "markdown",
   "id": "4339d9a4",
   "metadata": {
    "papermill": {
     "duration": 0.010373,
     "end_time": "2022-09-15T16:34:19.719668",
     "exception": false,
     "start_time": "2022-09-15T16:34:19.709295",
     "status": "completed"
    },
    "tags": []
   },
   "source": [
    "### Visualizing the data"
   ]
  },
  {
   "cell_type": "code",
   "execution_count": 4,
   "id": "cc20af1a",
   "metadata": {
    "execution": {
     "iopub.execute_input": "2022-09-15T16:34:19.743318Z",
     "iopub.status.busy": "2022-09-15T16:34:19.742619Z",
     "iopub.status.idle": "2022-09-15T16:34:20.002494Z",
     "shell.execute_reply": "2022-09-15T16:34:20.000732Z"
    },
    "papermill": {
     "duration": 0.27509,
     "end_time": "2022-09-15T16:34:20.005328",
     "exception": false,
     "start_time": "2022-09-15T16:34:19.730238",
     "status": "completed"
    },
    "tags": []
   },
   "outputs": [
    {
     "name": "stderr",
     "output_type": "stream",
     "text": [
      "/opt/conda/lib/python3.7/site-packages/seaborn/_decorators.py:43: FutureWarning: Pass the following variable as a keyword arg: x. From version 0.12, the only valid positional argument will be `data`, and passing other arguments without an explicit keyword will result in an error or misinterpretation.\n",
      "  FutureWarning\n"
     ]
    },
    {
     "data": {
      "image/png": "[encoded data removed]",
      "text/plain": [
       "<Figure size 432x288 with 1 Axes>"
      ]
     },
     "metadata": {
      "needs_background": "light"
     },
     "output_type": "display_data"
    }
   ],
   "source": [
    "plt.title('Emotions by Count', size=16)\n",
    "sns.countplot(CREMA_df.labels)\n",
    "plt.ylabel('Count', size=12)\n",
    "plt.xlabel('Emotions', size=12)\n",
    "sns.despine(top=True, right=True, left=False, bottom=False)\n",
    "plt.show()"
   ]
  },
  {
   "cell_type": "code",
   "execution_count": 5,
   "id": "8b387938",
   "metadata": {
    "execution": {
     "iopub.execute_input": "2022-09-15T16:34:20.030103Z",
     "iopub.status.busy": "2022-09-15T16:34:20.028908Z",
     "iopub.status.idle": "2022-09-15T16:34:20.037316Z",
     "shell.execute_reply": "2022-09-15T16:34:20.036509Z"
    },
    "papermill": {
     "duration": 0.022925,
     "end_time": "2022-09-15T16:34:20.039768",
     "exception": false,
     "start_time": "2022-09-15T16:34:20.016843",
     "status": "completed"
    },
    "tags": []
   },
   "outputs": [],
   "source": [
    "def create_waveplot(data, sr, e):\n",
    "    plt.figure(figsize=(10, 3))\n",
    "    plt.title('Waveplot for audio with {} emotion'.format(e), size=15)\n",
    "    librosa.display.waveshow(data, sr=sr)\n",
    "    plt.show()\n",
    "\n",
    "def create_spectrogram(data, sr, e):\n",
    "    # stft function converts the data into short term fourier transform\n",
    "    X = librosa.stft(data)\n",
    "    Xdb = librosa.amplitude_to_db(abs(X))\n",
    "    plt.figure(figsize=(12, 3))\n",
    "    plt.title('Spectrogram for audio with {} emotion'.format(e), size=15)\n",
    "    librosa.display.specshow(Xdb, sr=sr, x_axis='time', y_axis='hz')   \n",
    "    #librosa.display.specshow(Xdb, sr=sr, x_axis='time', y_axis='log')\n",
    "    plt.colorbar()"
   ]
  },
  {
   "cell_type": "code",
   "execution_count": 6,
   "id": "358f4681",
   "metadata": {
    "execution": {
     "iopub.execute_input": "2022-09-15T16:34:20.063715Z",
     "iopub.status.busy": "2022-09-15T16:34:20.062930Z",
     "iopub.status.idle": "2022-09-15T16:34:22.963846Z",
     "shell.execute_reply": "2022-09-15T16:34:22.962375Z"
    },
    "papermill": {
     "duration": 2.916057,
     "end_time": "2022-09-15T16:34:22.966813",
     "exception": false,
     "start_time": "2022-09-15T16:34:20.050756",
     "status": "completed"
    },
    "tags": []
   },
   "outputs": [
    {
     "data": {
      "image/png": "[encoded data removed]",
      "text/plain": [
       "<Figure size 720x216 with 1 Axes>"
      ]
     },
     "metadata": {
      "needs_background": "light"
     },
     "output_type": "display_data"
    },
    {
     "data": {
      "text/html": [
       "\n",
       "                <audio  controls=\"controls\" >\n",
       "                    <source src=\"data:audio/x-wav;base64,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\" type=\"audio/x-wav\" />\n",
       "                    Your browser does not support the audio element.\n",
       "                </audio>\n",
       "              "
      ],
      "text/plain": [
       "<IPython.lib.display.Audio object>"
      ]
     },
     "execution_count": 6,
     "metadata": {},
     "output_type": "execute_result"
    },
    {
     "data": {
      "image/png": "[encoded data removed]",
      "text/plain": [
       "<Figure size 864x216 with 2 Axes>"
      ]
     },
     "metadata": {
      "needs_background": "light"
     },
     "output_type": "display_data"
    }
   ],
   "source": [
    "emotion='angry'\n",
    "path = np.array(CREMA_df.path[CREMA_df.labels==emotion])[1]\n",
    "data, sample_rate = librosa.load(path)\n",
    "create_waveplot(data, sample_rate, emotion)\n",
    "create_spectrogram(data, sample_rate, emotion)\n",
    "Audio(path)"
   ]
  },
  {
   "cell_type": "markdown",
   "id": "abfe00e4",
   "metadata": {
    "papermill": {
     "duration": 0.012923,
     "end_time": "2022-09-15T16:34:22.994104",
     "exception": false,
     "start_time": "2022-09-15T16:34:22.981181",
     "status": "completed"
    },
    "tags": []
   },
   "source": [
    "### Data Augmentation"
   ]
  },
  {
   "cell_type": "code",
   "execution_count": 7,
   "id": "926556c2",
   "metadata": {
    "execution": {
     "iopub.execute_input": "2022-09-15T16:34:23.024117Z",
     "iopub.status.busy": "2022-09-15T16:34:23.023726Z",
     "iopub.status.idle": "2022-09-15T16:34:23.032368Z",
     "shell.execute_reply": "2022-09-15T16:34:23.030909Z"
    },
    "papermill": {
     "duration": 0.027537,
     "end_time": "2022-09-15T16:34:23.035256",
     "exception": false,
     "start_time": "2022-09-15T16:34:23.007719",
     "status": "completed"
    },
    "tags": []
   },
   "outputs": [],
   "source": [
    "def noise(data):\n",
    "    noise_amp = 0.035*np.random.uniform()*np.amax(data)\n",
    "    data = data + noise_amp*np.random.normal(size=data.shape[0])\n",
    "    return data\n",
    "\n",
    "def stretch(data, rate=0.8):\n",
    "    return librosa.effects.time_stretch(data, rate)\n",
    "\n",
    "def shift(data):\n",
    "    shift_range = int(np.random.uniform(low=-5, high = 5)*1000)\n",
    "    return np.roll(data, shift_range)\n",
    "\n",
    "def pitch(data, sample_rate, pitch_factor=0.7):\n",
    "    return librosa.effects.pitch_shift(data, sample_rate, pitch_factor)"
   ]
  },
  {
   "cell_type": "markdown",
   "id": "219d26f9",
   "metadata": {
    "papermill": {
     "duration": 0.013599,
     "end_time": "2022-09-15T16:34:23.062983",
     "exception": false,
     "start_time": "2022-09-15T16:34:23.049384",
     "status": "completed"
    },
    "tags": []
   },
   "source": [
    "### Feature extraction"
   ]
  },
  {
   "cell_type": "code",
   "execution_count": 8,
   "id": "d1b41bab",
   "metadata": {
    "execution": {
     "iopub.execute_input": "2022-09-15T16:34:23.092504Z",
     "iopub.status.busy": "2022-09-15T16:34:23.092121Z",
     "iopub.status.idle": "2022-09-15T16:34:23.100830Z",
     "shell.execute_reply": "2022-09-15T16:34:23.099991Z"
    },
    "papermill": {
     "duration": 0.02622,
     "end_time": "2022-09-15T16:34:23.102978",
     "exception": false,
     "start_time": "2022-09-15T16:34:23.076758",
     "status": "completed"
    },
    "tags": []
   },
   "outputs": [],
   "source": [
    "def extract_features(data):\n",
    "    # ZCR\n",
    "    result = np.array([])\n",
    "    zcr = np.mean(librosa.feature.zero_crossing_rate(y=data).T, axis=0)\n",
    "    result=np.hstack((result, zcr)) # stacking horizontally\n",
    "\n",
    "    # Chroma_stft\n",
    "    stft = np.abs(librosa.stft(data))\n",
    "    chroma_stft = np.mean(librosa.feature.chroma_stft(S=stft, sr=sample_rate).T, axis=0)\n",
    "    result = np.hstack((result, chroma_stft)) # stacking horizontally\n",
    "\n",
    "    # MFCC\n",
    "    mfcc = np.mean(librosa.feature.mfcc(y=data, sr=sample_rate).T, axis=0)\n",
    "    result = np.hstack((result, mfcc)) # stacking horizontally\n",
    "\n",
    "    # Root Mean Square Value\n",
    "    rms = np.mean(librosa.feature.rms(y=data).T, axis=0)\n",
    "    result = np.hstack((result, rms)) # stacking horizontally\n",
    "\n",
    "    # MelSpectogram\n",
    "    mel = np.mean(librosa.feature.melspectrogram(y=data, sr=sample_rate).T, axis=0)\n",
    "    result = np.hstack((result, mel)) # stacking horizontally\n",
    "    \n",
    "    return result"
   ]
  },
  {
   "cell_type": "code",
   "execution_count": 9,
   "id": "cec48e9e",
   "metadata": {
    "execution": {
     "iopub.execute_input": "2022-09-15T16:34:23.132126Z",
     "iopub.status.busy": "2022-09-15T16:34:23.131719Z",
     "iopub.status.idle": "2022-09-15T16:34:23.138520Z",
     "shell.execute_reply": "2022-09-15T16:34:23.137666Z"
    },
    "papermill": {
     "duration": 0.02435,
     "end_time": "2022-09-15T16:34:23.140717",
     "exception": false,
     "start_time": "2022-09-15T16:34:23.116367",
     "status": "completed"
    },
    "tags": []
   },
   "outputs": [],
   "source": [
    "def get_features(path):\n",
    "    # duration and offset are used to take care of the no audio in start and the ending of each audio files as seen above.\n",
    "    data, sample_rate = librosa.load(path, duration=2.5, offset=0.6, sr=8025)\n",
    "    \n",
    "    # without augmentation\n",
    "    res1 = extract_features(data)\n",
    "    result = np.array(res1)\n",
    "    \n",
    "    # data with noise\n",
    "    noise_data = noise(data)\n",
    "    res2 = extract_features(noise_data)\n",
    "    result = np.vstack((result, res2)) # stacking vertically\n",
    "    \n",
    "    # data with stretching and pitching\n",
    "    new_data = stretch(data)\n",
    "    data_stretch_pitch = pitch(new_data, sample_rate)\n",
    "    res3 = extract_features(data_stretch_pitch)\n",
    "    result = np.vstack((result, res3)) # stacking vertically\n",
    "    \n",
    "    return result"
   ]
  },
  {
   "cell_type": "code",
   "execution_count": 10,
   "id": "77580315",
   "metadata": {
    "execution": {
     "iopub.execute_input": "2022-09-15T16:34:23.171555Z",
     "iopub.status.busy": "2022-09-15T16:34:23.171173Z",
     "iopub.status.idle": "2022-09-15T17:15:24.037720Z",
     "shell.execute_reply": "2022-09-15T17:15:24.035701Z"
    },
    "papermill": {
     "duration": 2460.887276,
     "end_time": "2022-09-15T17:15:24.042450",
     "exception": false,
     "start_time": "2022-09-15T16:34:23.155174",
     "status": "completed"
    },
    "tags": []
   },
   "outputs": [
    {
     "name": "stderr",
     "output_type": "stream",
     "text": [
      "/opt/conda/lib/python3.7/site-packages/ipykernel_launcher.py:7: FutureWarning: Pass rate=0.8 as keyword args. From version 0.10 passing these as positional arguments will result in an error\n",
      "  import sys\n",
      "/opt/conda/lib/python3.7/site-packages/ipykernel_launcher.py:14: FutureWarning: Pass sr=8025, n_steps=0.7 as keyword args. From version 0.10 passing these as positional arguments will result in an error\n",
      "  \n",
      "/opt/conda/lib/python3.7/site-packages/ipykernel_launcher.py:7: FutureWarning: Pass rate=0.8 as keyword args. From version 0.10 passing these as positional arguments will result in an error\n",
      "  import sys\n",
      "/opt/conda/lib/python3.7/site-packages/ipykernel_launcher.py:14: FutureWarning: Pass sr=8025, n_steps=0.7 as keyword args. From version 0.10 passing these as positional arguments will result in an error\n",
      "  \n",
      "/opt/conda/lib/python3.7/site-packages/ipykernel_launcher.py:7: FutureWarning: Pass rate=0.8 as keyword args. From version 0.10 passing these as positional arguments will result in an error\n",
      "  import sys\n",
      "/opt/conda/lib/python3.7/site-packages/librosa/util/decorators.py:88: UserWarning: Trying to estimate tuning from empty frequency set.\n",
      "  return f(*args, **kwargs)\n"
     ]
    }
   ],
   "source": [
    "X, Y = [], []\n",
    "for path, emotion in zip(CREMA_df.path, CREMA_df.labels):\n",
    "    feature = get_features(path)\n",
    "    for ele in feature:\n",
    "        X.append(ele)\n",
    "        # appending emotion 3 times as we have made 3 augmentation techniques on each audio file.\n",
    "        Y.append(emotion)"
   ]
  },
  {
   "cell_type": "code",
   "execution_count": 11,
   "id": "d7572bfc",
   "metadata": {
    "execution": {
     "iopub.execute_input": "2022-09-15T17:15:24.114843Z",
     "iopub.status.busy": "2022-09-15T17:15:24.114082Z",
     "iopub.status.idle": "2022-09-15T17:15:24.134453Z",
     "shell.execute_reply": "2022-09-15T17:15:24.132971Z"
    },
    "papermill": {
     "duration": 0.062139,
     "end_time": "2022-09-15T17:15:24.138846",
     "exception": false,
     "start_time": "2022-09-15T17:15:24.076707",
     "status": "completed"
    },
    "tags": []
   },
   "outputs": [
    {
     "data": {
      "text/plain": [
       "(22326, 22326, (7442,))"
      ]
     },
     "execution_count": 11,
     "metadata": {},
     "output_type": "execute_result"
    }
   ],
   "source": [
    "len(X), len(Y), CREMA_df.path.shape"
   ]
  },
  {
   "cell_type": "code",
   "execution_count": 12,
   "id": "a1c6b0de",
   "metadata": {
    "execution": {
     "iopub.execute_input": "2022-09-15T17:15:24.194041Z",
     "iopub.status.busy": "2022-09-15T17:15:24.193227Z",
     "iopub.status.idle": "2022-09-15T17:15:31.971701Z",
     "shell.execute_reply": "2022-09-15T17:15:31.970505Z"
    },
    "papermill": {
     "duration": 7.813084,
     "end_time": "2022-09-15T17:15:31.975344",
     "exception": false,
     "start_time": "2022-09-15T17:15:24.162260",
     "status": "completed"
    },
    "tags": []
   },
   "outputs": [
    {
     "data": {
      "text/html": [
       "<div>\n",
       "<style scoped>\n",
       "    .dataframe tbody tr th:only-of-type {\n",
       "        vertical-align: middle;\n",
       "    }\n",
       "\n",
       "    .dataframe tbody tr th {\n",
       "        vertical-align: top;\n",
       "    }\n",
       "\n",
       "    .dataframe thead th {\n",
       "        text-align: right;\n",
       "    }\n",
       "</style>\n",
       "<table border=\"1\" class=\"dataframe\">\n",
       "  <thead>\n",
       "    <tr style=\"text-align: right;\">\n",
       "      <th></th>\n",
       "      <th>0</th>\n",
       "      <th>1</th>\n",
       "      <th>2</th>\n",
       "      <th>3</th>\n",
       "      <th>4</th>\n",
       "      <th>5</th>\n",
       "      <th>6</th>\n",
       "      <th>7</th>\n",
       "      <th>8</th>\n",
       "      <th>9</th>\n",
       "      <th>...</th>\n",
       "      <th>153</th>\n",
       "      <th>154</th>\n",
       "      <th>155</th>\n",
       "      <th>156</th>\n",
       "      <th>157</th>\n",
       "      <th>158</th>\n",
       "      <th>159</th>\n",
       "      <th>160</th>\n",
       "      <th>161</th>\n",
       "      <th>labels</th>\n",
       "    </tr>\n",
       "  </thead>\n",
       "  <tbody>\n",
       "    <tr>\n",
       "      <th>0</th>\n",
       "      <td>0.165998</td>\n",
       "      <td>0.643309</td>\n",
       "      <td>0.608689</td>\n",
       "      <td>0.689277</td>\n",
       "      <td>0.826508</td>\n",
       "      <td>0.705458</td>\n",
       "      <td>0.624304</td>\n",
       "      <td>0.680610</td>\n",
       "      <td>0.694893</td>\n",
       "      <td>0.677913</td>\n",
       "      <td>...</td>\n",
       "      <td>0.001927</td>\n",
       "      <td>0.002279</td>\n",
       "      <td>0.007528</td>\n",
       "      <td>0.008545</td>\n",
       "      <td>0.009004</td>\n",
       "      <td>0.010227</td>\n",
       "      <td>0.001620</td>\n",
       "      <td>0.000423</td>\n",
       "      <td>6.611836e-06</td>\n",
       "      <td>angry</td>\n",
       "    </tr>\n",
       "    <tr>\n",
       "      <th>1</th>\n",
       "      <td>0.217719</td>\n",
       "      <td>0.673349</td>\n",
       "      <td>0.638667</td>\n",
       "      <td>0.703509</td>\n",
       "      <td>0.836707</td>\n",
       "      <td>0.755602</td>\n",
       "      <td>0.634634</td>\n",
       "      <td>0.664422</td>\n",
       "      <td>0.684979</td>\n",
       "      <td>0.679800</td>\n",
       "      <td>...</td>\n",
       "      <td>0.002191</td>\n",
       "      <td>0.002547</td>\n",
       "      <td>0.007805</td>\n",
       "      <td>0.008877</td>\n",
       "      <td>0.009055</td>\n",
       "      <td>0.010570</td>\n",
       "      <td>0.001901</td>\n",
       "      <td>0.000672</td>\n",
       "      <td>2.785192e-04</td>\n",
       "      <td>angry</td>\n",
       "    </tr>\n",
       "    <tr>\n",
       "      <th>2</th>\n",
       "      <td>0.176950</td>\n",
       "      <td>0.551479</td>\n",
       "      <td>0.724563</td>\n",
       "      <td>0.639063</td>\n",
       "      <td>0.632237</td>\n",
       "      <td>0.743188</td>\n",
       "      <td>0.695990</td>\n",
       "      <td>0.611068</td>\n",
       "      <td>0.617060</td>\n",
       "      <td>0.650250</td>\n",
       "      <td>...</td>\n",
       "      <td>0.001271</td>\n",
       "      <td>0.001030</td>\n",
       "      <td>0.000435</td>\n",
       "      <td>0.001391</td>\n",
       "      <td>0.003079</td>\n",
       "      <td>0.001203</td>\n",
       "      <td>0.000686</td>\n",
       "      <td>0.000072</td>\n",
       "      <td>1.275904e-07</td>\n",
       "      <td>angry</td>\n",
       "    </tr>\n",
       "    <tr>\n",
       "      <th>3</th>\n",
       "      <td>0.157942</td>\n",
       "      <td>0.605927</td>\n",
       "      <td>0.630886</td>\n",
       "      <td>0.683531</td>\n",
       "      <td>0.846521</td>\n",
       "      <td>0.823000</td>\n",
       "      <td>0.734800</td>\n",
       "      <td>0.708299</td>\n",
       "      <td>0.673043</td>\n",
       "      <td>0.595486</td>\n",
       "      <td>...</td>\n",
       "      <td>0.003400</td>\n",
       "      <td>0.001376</td>\n",
       "      <td>0.001404</td>\n",
       "      <td>0.001384</td>\n",
       "      <td>0.001166</td>\n",
       "      <td>0.001216</td>\n",
       "      <td>0.000224</td>\n",
       "      <td>0.000026</td>\n",
       "      <td>5.835259e-07</td>\n",
       "      <td>disgust</td>\n",
       "    </tr>\n",
       "    <tr>\n",
       "      <th>4</th>\n",
       "      <td>0.215123</td>\n",
       "      <td>0.653027</td>\n",
       "      <td>0.689031</td>\n",
       "      <td>0.752862</td>\n",
       "      <td>0.895997</td>\n",
       "      <td>0.816219</td>\n",
       "      <td>0.724194</td>\n",
       "      <td>0.710878</td>\n",
       "      <td>0.643262</td>\n",
       "      <td>0.634539</td>\n",
       "      <td>...</td>\n",
       "      <td>0.003709</td>\n",
       "      <td>0.001680</td>\n",
       "      <td>0.001781</td>\n",
       "      <td>0.001693</td>\n",
       "      <td>0.001420</td>\n",
       "      <td>0.001633</td>\n",
       "      <td>0.000536</td>\n",
       "      <td>0.000317</td>\n",
       "      <td>3.120902e-04</td>\n",
       "      <td>disgust</td>\n",
       "    </tr>\n",
       "  </tbody>\n",
       "</table>\n",
       "<p>5 rows × 163 columns</p>\n",
       "</div>"
      ],
      "text/plain": [
       "          0         1         2         3         4         5         6  \\\n",
       "0  0.165998  0.643309  0.608689  0.689277  0.826508  0.705458  0.624304   \n",
       "1  0.217719  0.673349  0.638667  0.703509  0.836707  0.755602  0.634634   \n",
       "2  0.176950  0.551479  0.724563  0.639063  0.632237  0.743188  0.695990   \n",
       "3  0.157942  0.605927  0.630886  0.683531  0.846521  0.823000  0.734800   \n",
       "4  0.215123  0.653027  0.689031  0.752862  0.895997  0.816219  0.724194   \n",
       "\n",
       "          7         8         9  ...       153       154       155       156  \\\n",
       "0  0.680610  0.694893  0.677913  ...  0.001927  0.002279  0.007528  0.008545   \n",
       "1  0.664422  0.684979  0.679800  ...  0.002191  0.002547  0.007805  0.008877   \n",
       "2  0.611068  0.617060  0.650250  ...  0.001271  0.001030  0.000435  0.001391   \n",
       "3  0.708299  0.673043  0.595486  ...  0.003400  0.001376  0.001404  0.001384   \n",
       "4  0.710878  0.643262  0.634539  ...  0.003709  0.001680  0.001781  0.001693   \n",
       "\n",
       "        157       158       159       160           161   labels  \n",
       "0  0.009004  0.010227  0.001620  0.000423  6.611836e-06    angry  \n",
       "1  0.009055  0.010570  0.001901  0.000672  2.785192e-04    angry  \n",
       "2  0.003079  0.001203  0.000686  0.000072  1.275904e-07    angry  \n",
       "3  0.001166  0.001216  0.000224  0.000026  5.835259e-07  disgust  \n",
       "4  0.001420  0.001633  0.000536  0.000317  3.120902e-04  disgust  \n",
       "\n",
       "[5 rows x 163 columns]"
      ]
     },
     "execution_count": 12,
     "metadata": {},
     "output_type": "execute_result"
    }
   ],
   "source": [
    "Features = pd.DataFrame(X)\n",
    "Features['labels'] = Y\n",
    "Features.to_csv('features.csv', index=False)\n",
    "Features.head()"
   ]
  },
  {
   "cell_type": "markdown",
   "id": "0d92b2e0",
   "metadata": {
    "papermill": {
     "duration": 0.015321,
     "end_time": "2022-09-15T17:15:32.005477",
     "exception": false,
     "start_time": "2022-09-15T17:15:31.990156",
     "status": "completed"
    },
    "tags": []
   },
   "source": [
    "### Data Preparation"
   ]
  },
  {
   "cell_type": "code",
   "execution_count": 13,
   "id": "6d1d1f62",
   "metadata": {
    "execution": {
     "iopub.execute_input": "2022-09-15T17:15:32.036501Z",
     "iopub.status.busy": "2022-09-15T17:15:32.035469Z",
     "iopub.status.idle": "2022-09-15T17:15:32.054656Z",
     "shell.execute_reply": "2022-09-15T17:15:32.053107Z"
    },
    "papermill": {
     "duration": 0.038118,
     "end_time": "2022-09-15T17:15:32.057927",
     "exception": false,
     "start_time": "2022-09-15T17:15:32.019809",
     "status": "completed"
    },
    "tags": []
   },
   "outputs": [],
   "source": [
    "X = Features.iloc[: ,:-1].values\n",
    "Y = Features['labels'].values"
   ]
  },
  {
   "cell_type": "code",
   "execution_count": 14,
   "id": "8e7a1a89",
   "metadata": {
    "execution": {
     "iopub.execute_input": "2022-09-15T17:15:32.090554Z",
     "iopub.status.busy": "2022-09-15T17:15:32.089331Z",
     "iopub.status.idle": "2022-09-15T17:15:32.103336Z",
     "shell.execute_reply": "2022-09-15T17:15:32.102147Z"
    },
    "papermill": {
     "duration": 0.033525,
     "end_time": "2022-09-15T17:15:32.106449",
     "exception": false,
     "start_time": "2022-09-15T17:15:32.072924",
     "status": "completed"
    },
    "tags": []
   },
   "outputs": [],
   "source": [
    "# As this is a multiclass classification problem onehotencoding our Y.\n",
    "encoder = OneHotEncoder()\n",
    "Y = encoder.fit_transform(np.array(Y).reshape(-1,1)).toarray()"
   ]
  },
  {
   "cell_type": "code",
   "execution_count": 15,
   "id": "deab4978",
   "metadata": {
    "execution": {
     "iopub.execute_input": "2022-09-15T17:15:32.137876Z",
     "iopub.status.busy": "2022-09-15T17:15:32.136650Z",
     "iopub.status.idle": "2022-09-15T17:15:32.210462Z",
     "shell.execute_reply": "2022-09-15T17:15:32.208673Z"
    },
    "papermill": {
     "duration": 0.092117,
     "end_time": "2022-09-15T17:15:32.213172",
     "exception": false,
     "start_time": "2022-09-15T17:15:32.121055",
     "status": "completed"
    },
    "tags": []
   },
   "outputs": [
    {
     "data": {
      "text/plain": [
       "((16744, 162), (16744, 6), (5582, 162), (5582, 6))"
      ]
     },
     "execution_count": 15,
     "metadata": {},
     "output_type": "execute_result"
    }
   ],
   "source": [
    "# splitting data\n",
    "x_train, x_test, y_train, y_test = train_test_split(X, Y, random_state=0, shuffle=True)\n",
    "x_train.shape, y_train.shape, x_test.shape, y_test.shape"
   ]
  },
  {
   "cell_type": "code",
   "execution_count": 16,
   "id": "a378f339",
   "metadata": {
    "execution": {
     "iopub.execute_input": "2022-09-15T17:15:32.243927Z",
     "iopub.status.busy": "2022-09-15T17:15:32.243161Z",
     "iopub.status.idle": "2022-09-15T17:15:32.300522Z",
     "shell.execute_reply": "2022-09-15T17:15:32.299249Z"
    },
    "papermill": {
     "duration": 0.075718,
     "end_time": "2022-09-15T17:15:32.303153",
     "exception": false,
     "start_time": "2022-09-15T17:15:32.227435",
     "status": "completed"
    },
    "tags": []
   },
   "outputs": [
    {
     "data": {
      "text/plain": [
       "((16744, 162), (16744, 6), (5582, 162), (5582, 6))"
      ]
     },
     "execution_count": 16,
     "metadata": {},
     "output_type": "execute_result"
    }
   ],
   "source": [
    "# scaling our data with sklearn's Standard scaler\n",
    "scaler = StandardScaler()\n",
    "x_train = scaler.fit_transform(x_train)\n",
    "x_test = scaler.transform(x_test)\n",
    "x_train.shape, y_train.shape, x_test.shape, y_test.shape"
   ]
  },
  {
   "cell_type": "code",
   "execution_count": 17,
   "id": "01222bff",
   "metadata": {
    "execution": {
     "iopub.execute_input": "2022-09-15T17:15:32.333706Z",
     "iopub.status.busy": "2022-09-15T17:15:32.332741Z",
     "iopub.status.idle": "2022-09-15T17:15:32.341358Z",
     "shell.execute_reply": "2022-09-15T17:15:32.340365Z"
    },
    "papermill": {
     "duration": 0.026256,
     "end_time": "2022-09-15T17:15:32.343638",
     "exception": false,
     "start_time": "2022-09-15T17:15:32.317382",
     "status": "completed"
    },
    "tags": []
   },
   "outputs": [
    {
     "data": {
      "text/plain": [
       "((16744, 162, 1), (16744, 6), (5582, 162, 1), (5582, 6))"
      ]
     },
     "execution_count": 17,
     "metadata": {},
     "output_type": "execute_result"
    }
   ],
   "source": [
    "# making our data compatible to model.\n",
    "x_train = np.expand_dims(x_train, axis=2)\n",
    "x_test = np.expand_dims(x_test, axis=2)\n",
    "x_train.shape, y_train.shape, x_test.shape, y_test.shape"
   ]
  },
  {
   "cell_type": "markdown",
   "id": "63992908",
   "metadata": {
    "papermill": {
     "duration": 0.013691,
     "end_time": "2022-09-15T17:15:32.371446",
     "exception": false,
     "start_time": "2022-09-15T17:15:32.357755",
     "status": "completed"
    },
    "tags": []
   },
   "source": [
    "### Modelling"
   ]
  },
  {
   "cell_type": "markdown",
   "id": "53bde3cc",
   "metadata": {
    "papermill": {
     "duration": 0.013752,
     "end_time": "2022-09-15T17:15:32.399387",
     "exception": false,
     "start_time": "2022-09-15T17:15:32.385635",
     "status": "completed"
    },
    "tags": []
   },
   "source": [
    "#### Original Model"
   ]
  },
  {
   "cell_type": "code",
   "execution_count": 18,
   "id": "a0579bd5",
   "metadata": {
    "execution": {
     "iopub.execute_input": "2022-09-15T17:15:32.429974Z",
     "iopub.status.busy": "2022-09-15T17:15:32.429280Z",
     "iopub.status.idle": "2022-09-15T17:15:32.434554Z",
     "shell.execute_reply": "2022-09-15T17:15:32.433784Z"
    },
    "papermill": {
     "duration": 0.023563,
     "end_time": "2022-09-15T17:15:32.437034",
     "exception": false,
     "start_time": "2022-09-15T17:15:32.413471",
     "status": "completed"
    },
    "tags": []
   },
   "outputs": [],
   "source": [
    "# model=Sequential()\n",
    "# model.add(Conv1D(256, kernel_size=5, strides=1, padding='same', activation='relu', input_shape=(x_train.shape[1], 1)))\n",
    "# model.add(MaxPooling1D(pool_size=5, strides = 2, padding = 'same'))\n",
    "\n",
    "# model.add(Conv1D(256, kernel_size=5, strides=1, padding='same', activation='relu'))\n",
    "# model.add(MaxPooling1D(pool_size=5, strides = 2, padding = 'same'))\n",
    "\n",
    "# model.add(Conv1D(128, kernel_size=5, strides=1, padding='same', activation='relu'))\n",
    "# model.add(MaxPooling1D(pool_size=5, strides = 2, padding = 'same'))\n",
    "# model.add(Dropout(0.2))\n",
    "\n",
    "# model.add(Conv1D(64, kernel_size=5, strides=1, padding='same', activation='relu'))\n",
    "# model.add(MaxPooling1D(pool_size=5, strides = 2, padding = 'same'))\n",
    "\n",
    "# model.add(Flatten())\n",
    "# model.add(Dense(units=32, activation='relu'))\n",
    "# model.add(Dropout(0.3))\n",
    "\n",
    "# model.add(Dense(units=6, activation='softmax'))\n",
    "# model.compile(optimizer = 'adam' , loss = 'categorical_crossentropy' , metrics = ['accuracy'])\n",
    "\n",
    "# model.summary()"
   ]
  },
  {
   "cell_type": "markdown",
   "id": "a4fc9fdf",
   "metadata": {
    "papermill": {
     "duration": 0.013881,
     "end_time": "2022-09-15T17:15:32.465737",
     "exception": false,
     "start_time": "2022-09-15T17:15:32.451856",
     "status": "completed"
    },
    "tags": []
   },
   "source": [
    "#### Deeper Model"
   ]
  },
  {
   "cell_type": "code",
   "execution_count": 19,
   "id": "4db9ce16",
   "metadata": {
    "execution": {
     "iopub.execute_input": "2022-09-15T17:15:32.496184Z",
     "iopub.status.busy": "2022-09-15T17:15:32.495562Z",
     "iopub.status.idle": "2022-09-15T17:15:32.500864Z",
     "shell.execute_reply": "2022-09-15T17:15:32.500107Z"
    },
    "papermill": {
     "duration": 0.02316,
     "end_time": "2022-09-15T17:15:32.503012",
     "exception": false,
     "start_time": "2022-09-15T17:15:32.479852",
     "status": "completed"
    },
    "tags": []
   },
   "outputs": [],
   "source": [
    "# def create_model():\n",
    "\n",
    "#     model=Sequential()\n",
    "\n",
    "#     model.add(Conv1D(256, 8, padding='same', activation='relu'))#input_shape=(x_train.shape[1], 1)\n",
    "\n",
    "#     model.add(Conv1D(256, 8, padding='same'))\n",
    "#     model.add(BatchNormalization())\n",
    "#     model.add(Activation('relu'))\n",
    "#     model.add(Dropout(0.25))\n",
    "#     model.add(MaxPooling1D(pool_size=(8)))\n",
    "\n",
    "#     model.add(Conv1D(128, 8, activation='relu', padding='same'))\n",
    "\n",
    "#     model.add(Conv1D(128, 8, activation='relu', padding='same'))\n",
    "\n",
    "#     model.add(Conv1D(128, 8, activation='relu', padding='same'))\n",
    "\n",
    "#     model.add(Conv1D(128, 8, padding='same'))\n",
    "#     model.add(BatchNormalization())\n",
    "#     model.add(Activation('relu'))\n",
    "#     model.add(Dropout(0.25))\n",
    "#     model.add(MaxPooling1D(pool_size=(8)))\n",
    "\n",
    "#     model.add(Conv1D(64, 8, activation='relu', padding='same'))\n",
    "\n",
    "#     model.add(Conv1D(64, 8, activation='relu', padding='same'))\n",
    "\n",
    "#     model.add(Flatten())\n",
    "\n",
    "#     model.add(Dense(units=6, activation='softmax'))\n",
    "#     model.compile(optimizer='adam', loss='categorical_crossentropy', metrics=['accuracy'])\n",
    "    \n",
    "#     return model"
   ]
  },
  {
   "cell_type": "markdown",
   "id": "37519560",
   "metadata": {
    "papermill": {
     "duration": 0.013874,
     "end_time": "2022-09-15T17:15:32.531007",
     "exception": false,
     "start_time": "2022-09-15T17:15:32.517133",
     "status": "completed"
    },
    "tags": []
   },
   "source": [
    "#### Viv's Model"
   ]
  },
  {
   "cell_type": "code",
   "execution_count": 20,
   "id": "4a52d095",
   "metadata": {
    "execution": {
     "iopub.execute_input": "2022-09-15T17:15:32.561315Z",
     "iopub.status.busy": "2022-09-15T17:15:32.560693Z",
     "iopub.status.idle": "2022-09-15T17:15:32.567343Z",
     "shell.execute_reply": "2022-09-15T17:15:32.566606Z"
    },
    "papermill": {
     "duration": 0.024435,
     "end_time": "2022-09-15T17:15:32.569478",
     "exception": false,
     "start_time": "2022-09-15T17:15:32.545043",
     "status": "completed"
    },
    "tags": []
   },
   "outputs": [],
   "source": [
    "from keras.layers import Input, ZeroPadding1D\n",
    "from keras import Model\n",
    "from IPython.core.debugger import Pdb; \n",
    "\n",
    "\n",
    "# x_train = np.ones([16744, 162])\n",
    "# y_train = np.ones([16744, 6])\n",
    "\n",
    "# input_shape = (x_train.shape[1], 1)\n",
    "# batch_size = 64\n",
    "# kernel_size = 2\n",
    "# filters = 128\n",
    "# dropout = 0.2\n",
    "# num_labels = 6\n",
    "\n",
    "\n",
    "# inputs = Input(shape=input_shape)\n",
    "# # Pdb().set_trace()\n",
    "# y = Conv1D(filters=filters, kernel_size=1, activation='relu', padding=\"valid\")(inputs)\n",
    "# y = ZeroPadding1D(padding=(2,2))(y)\n",
    "# y = Conv1D(filters=filters,kernel_size=kernel_size,activation='relu')(y)\n",
    "# y = MaxPooling1D(5,2)(y)\n",
    "\n",
    "# y = ZeroPadding1D(padding=(2,2))(y)\n",
    "# y = Conv1D(filters=filters,kernel_size=kernel_size,activation='relu')(y)\n",
    "# y = ZeroPadding1D(padding=(2,2))(y)\n",
    "# y = Conv1D(filters=filters,kernel_size=kernel_size,activation='relu')(y)\n",
    "# y = MaxPooling1D(5,2)(y)\n",
    "\n",
    "# y = ZeroPadding1D(padding=(2,2))(y)\n",
    "# y = Conv1D(filters=filters,kernel_size=kernel_size,activation='relu')(y)\n",
    "# y = ZeroPadding1D(padding=(2,2))(y)\n",
    "# y = Conv1D(filters=filters,kernel_size=kernel_size,activation='relu')(y)\n",
    "# y = MaxPooling1D(5,2)(y)\n",
    "\n",
    "# y = ZeroPadding1D(padding=(2,2))(y)\n",
    "# y = Conv1D(filters=filters,kernel_size=kernel_size,activation='relu')(y)\n",
    "# y = ZeroPadding1D(padding=(2,2))(y)\n",
    "# y = Conv1D(filters=filters,kernel_size=kernel_size,activation='relu')(y)\n",
    "# y = MaxPooling1D(5,2)(y)\n",
    "\n",
    "# y = ZeroPadding1D(padding=(2,2))(y)\n",
    "# y = Conv1D(filters=filters,kernel_size=kernel_size,activation='relu')(y)\n",
    "# y = ZeroPadding1D(padding=(2,2))(y)\n",
    "# y = Conv1D(filters=filters,kernel_size=kernel_size,activation='relu')(y)\n",
    "# y = MaxPooling1D(5,2)(y)\n",
    "\n",
    "# y = Flatten()(y)\n",
    "# y = Dropout(dropout)(y)\n",
    "# y = Dense(32)(y)\n",
    "\n",
    "# outputs = Dense(num_labels, activation='log_softmax')(y)\n",
    "# model = Model(inputs=inputs, outputs=outputs)\n",
    "\n",
    "# model.summary()"
   ]
  },
  {
   "cell_type": "code",
   "execution_count": 21,
   "id": "c6b9b7e2",
   "metadata": {
    "execution": {
     "iopub.execute_input": "2022-09-15T17:15:32.600252Z",
     "iopub.status.busy": "2022-09-15T17:15:32.599118Z",
     "iopub.status.idle": "2022-09-15T17:15:32.959666Z",
     "shell.execute_reply": "2022-09-15T17:15:32.958108Z"
    },
    "papermill": {
     "duration": 0.378818,
     "end_time": "2022-09-15T17:15:32.962341",
     "exception": false,
     "start_time": "2022-09-15T17:15:32.583523",
     "status": "completed"
    },
    "tags": []
   },
   "outputs": [
    {
     "name": "stderr",
     "output_type": "stream",
     "text": [
      "2022-09-15 17:15:32.652873: I tensorflow/core/common_runtime/process_util.cc:146] Creating new thread pool with default inter op setting: 2. Tune using inter_op_parallelism_threads for best performance.\n"
     ]
    },
    {
     "name": "stdout",
     "output_type": "stream",
     "text": [
      "Model: \"sequential\"\n",
      "_________________________________________________________________\n",
      "Layer (type)                 Output Shape              Param #   \n",
      "=================================================================\n",
      "conv1d (Conv1D)              (None, 161, 128)          384       \n",
      "_________________________________________________________________\n",
      "zero_padding1d (ZeroPadding1 (None, 165, 128)          0         \n",
      "_________________________________________________________________\n",
      "conv1d_1 (Conv1D)            (None, 164, 128)          32896     \n",
      "_________________________________________________________________\n",
      "zero_padding1d_1 (ZeroPaddin (None, 168, 128)          0         \n",
      "_________________________________________________________________\n",
      "zero_padding1d_2 (ZeroPaddin (None, 172, 128)          0         \n",
      "_________________________________________________________________\n",
      "conv1d_2 (Conv1D)            (None, 171, 128)          32896     \n",
      "_________________________________________________________________\n",
      "zero_padding1d_3 (ZeroPaddin (None, 175, 128)          0         \n",
      "_________________________________________________________________\n",
      "conv1d_3 (Conv1D)            (None, 174, 128)          32896     \n",
      "_________________________________________________________________\n",
      "max_pooling1d (MaxPooling1D) (None, 87, 128)           0         \n",
      "_________________________________________________________________\n",
      "zero_padding1d_4 (ZeroPaddin (None, 91, 128)           0         \n",
      "_________________________________________________________________\n",
      "conv1d_4 (Conv1D)            (None, 90, 128)           32896     \n",
      "_________________________________________________________________\n",
      "zero_padding1d_5 (ZeroPaddin (None, 94, 128)           0         \n",
      "_________________________________________________________________\n",
      "conv1d_5 (Conv1D)            (None, 93, 128)           32896     \n",
      "_________________________________________________________________\n",
      "max_pooling1d_1 (MaxPooling1 (None, 46, 128)           0         \n",
      "_________________________________________________________________\n",
      "zero_padding1d_6 (ZeroPaddin (None, 50, 128)           0         \n",
      "_________________________________________________________________\n",
      "conv1d_6 (Conv1D)            (None, 49, 128)           32896     \n",
      "_________________________________________________________________\n",
      "zero_padding1d_7 (ZeroPaddin (None, 53, 128)           0         \n",
      "_________________________________________________________________\n",
      "conv1d_7 (Conv1D)            (None, 52, 128)           32896     \n",
      "_________________________________________________________________\n",
      "max_pooling1d_2 (MaxPooling1 (None, 26, 128)           0         \n",
      "_________________________________________________________________\n",
      "zero_padding1d_8 (ZeroPaddin (None, 30, 128)           0         \n",
      "_________________________________________________________________\n",
      "conv1d_8 (Conv1D)            (None, 29, 128)           32896     \n",
      "_________________________________________________________________\n",
      "zero_padding1d_9 (ZeroPaddin (None, 33, 128)           0         \n",
      "_________________________________________________________________\n",
      "conv1d_9 (Conv1D)            (None, 32, 128)           32896     \n",
      "_________________________________________________________________\n",
      "max_pooling1d_3 (MaxPooling1 (None, 16, 128)           0         \n",
      "_________________________________________________________________\n",
      "flatten (Flatten)            (None, 2048)              0         \n",
      "_________________________________________________________________\n",
      "dropout (Dropout)            (None, 2048)              0         \n",
      "_________________________________________________________________\n",
      "dense (Dense)                (None, 32)                65568     \n",
      "_________________________________________________________________\n",
      "dense_1 (Dense)              (None, 6)                 198       \n",
      "=================================================================\n",
      "Total params: 362,214\n",
      "Trainable params: 362,214\n",
      "Non-trainable params: 0\n",
      "_________________________________________________________________\n"
     ]
    }
   ],
   "source": [
    "model=Sequential()\n",
    "\n",
    "model.add(Conv1D(128, 2, padding=\"valid\", activation=\"relu\", input_shape=(x_train.shape[1], 1)))\n",
    "model.add(ZeroPadding1D(padding=(2,2)))\n",
    "model.add(Conv1D(128, 2, activation=\"relu\"))\n",
    "model.add(ZeroPadding1D(padding=(2,2)))\n",
    "\n",
    "model.add(ZeroPadding1D(padding=(2,2)))\n",
    "model.add(Conv1D(128, 2, activation=\"relu\"))\n",
    "model.add(ZeroPadding1D(padding=(2,2)))\n",
    "model.add(Conv1D(128, 2, activation=\"relu\"))\n",
    "model.add(MaxPooling1D(pool_size=(2)))\n",
    "\n",
    "model.add(ZeroPadding1D(padding=(2,2)))\n",
    "model.add(Conv1D(128, 2, activation=\"relu\"))\n",
    "model.add(ZeroPadding1D(padding=(2,2)))\n",
    "model.add(Conv1D(128, 2, activation=\"relu\"))\n",
    "model.add(MaxPooling1D(pool_size=(2)))\n",
    "\n",
    "model.add(ZeroPadding1D(padding=(2,2)))\n",
    "model.add(Conv1D(128, 2,  activation=\"relu\"))\n",
    "model.add(ZeroPadding1D(padding=(2,2)))\n",
    "model.add(Conv1D(128, 2, activation=\"relu\"))\n",
    "model.add(MaxPooling1D(pool_size=(2)))\n",
    "\n",
    "model.add(ZeroPadding1D(padding=(2,2)))\n",
    "model.add(Conv1D(128, 2,  activation=\"relu\"))\n",
    "model.add(ZeroPadding1D(padding=(2,2)))\n",
    "model.add(Conv1D(128, 2,  activation=\"relu\"))\n",
    "model.add(MaxPooling1D(pool_size=(2)))\n",
    "\n",
    "model.add(Flatten())\n",
    "model.add(Dropout(0.2))\n",
    "model.add(Dense(32))\n",
    "\n",
    "model.add(Dense(units=6, activation='log_softmax'))\n",
    "model.compile(optimizer='adam', loss='categorical_crossentropy', metrics=['accuracy'])\n",
    "\n",
    "model.summary()"
   ]
  },
  {
   "cell_type": "markdown",
   "id": "421094de",
   "metadata": {
    "papermill": {
     "duration": 0.013814,
     "end_time": "2022-09-15T17:15:32.990527",
     "exception": false,
     "start_time": "2022-09-15T17:15:32.976713",
     "status": "completed"
    },
    "tags": []
   },
   "source": [
    "#### Swish activation Model"
   ]
  },
  {
   "cell_type": "code",
   "execution_count": 22,
   "id": "42dc3a94",
   "metadata": {
    "execution": {
     "iopub.execute_input": "2022-09-15T17:15:33.021735Z",
     "iopub.status.busy": "2022-09-15T17:15:33.021033Z",
     "iopub.status.idle": "2022-09-15T17:15:33.025723Z",
     "shell.execute_reply": "2022-09-15T17:15:33.024825Z"
    },
    "papermill": {
     "duration": 0.022905,
     "end_time": "2022-09-15T17:15:33.027957",
     "exception": false,
     "start_time": "2022-09-15T17:15:33.005052",
     "status": "completed"
    },
    "tags": []
   },
   "outputs": [],
   "source": [
    "# def swish(x):\n",
    "#     return (K.sigmoid(x) * x)"
   ]
  },
  {
   "cell_type": "code",
   "execution_count": 23,
   "id": "2cc80662",
   "metadata": {
    "execution": {
     "iopub.execute_input": "2022-09-15T17:15:33.059219Z",
     "iopub.status.busy": "2022-09-15T17:15:33.058573Z",
     "iopub.status.idle": "2022-09-15T17:15:33.064177Z",
     "shell.execute_reply": "2022-09-15T17:15:33.063323Z"
    },
    "papermill": {
     "duration": 0.023793,
     "end_time": "2022-09-15T17:15:33.066322",
     "exception": false,
     "start_time": "2022-09-15T17:15:33.042529",
     "status": "completed"
    },
    "tags": []
   },
   "outputs": [],
   "source": [
    "# model=Sequential()\n",
    "\n",
    "# get_custom_objects().update({'swish': Activation(swish)})\n",
    "\n",
    "# model.add(Conv1D(256, 8, padding='same', activation='swish', input_shape=(x_train.shape[1], 1)))\n",
    "# model.add(Dropout(0.1))\n",
    "# model.add(Conv1D(256, 8, padding='same'))\n",
    "# model.add(BatchNormalization())\n",
    "# model.add(Activation('swish'))\n",
    "# model.add(Dropout(0.1))\n",
    "# model.add(MaxPooling1D(pool_size=(8)))\n",
    "\n",
    "# model.add(Conv1D(128, 8, activation='swish', padding='same'))\n",
    "# model.add(Dropout(0.1))\n",
    "# model.add(Conv1D(128, 8, activation='swish', padding='same'))\n",
    "# model.add(Dropout(0.1))\n",
    "\n",
    "# model.add(Conv1D(128, 8, activation='swish', padding='same'))\n",
    "# model.add(Dropout(0.1))\n",
    "# model.add(Conv1D(128, 8, padding='same'))\n",
    "# model.add(BatchNormalization())\n",
    "# model.add(Activation('swish'))\n",
    "# model.add(Dropout(0.1))\n",
    "# model.add(MaxPooling1D(pool_size=(8)))\n",
    "\n",
    "# model.add(Conv1D(64, 8, activation='swish', padding='same'))\n",
    "# model.add(Dropout(0.1))\n",
    "# model.add(Conv1D(64, 8, activation='swish', padding='same'))\n",
    "# model.add(Dropout(0.1))\n",
    "\n",
    "# model.add(Flatten())\n",
    "\n",
    "# model.add(Dense(units=6, activation='softmax'))\n",
    "# model.compile(optimizer='adam', loss='categorical_crossentropy', metrics=['accuracy'])\n",
    "\n",
    "# model.summary()"
   ]
  },
  {
   "cell_type": "code",
   "execution_count": 24,
   "id": "9c7559c0",
   "metadata": {
    "execution": {
     "iopub.execute_input": "2022-09-15T17:15:33.097743Z",
     "iopub.status.busy": "2022-09-15T17:15:33.097340Z",
     "iopub.status.idle": "2022-09-15T18:01:56.882269Z",
     "shell.execute_reply": "2022-09-15T18:01:56.880822Z"
    },
    "papermill": {
     "duration": 2783.804568,
     "end_time": "2022-09-15T18:01:56.885408",
     "exception": false,
     "start_time": "2022-09-15T17:15:33.080840",
     "status": "completed"
    },
    "tags": []
   },
   "outputs": [
    {
     "name": "stderr",
     "output_type": "stream",
     "text": [
      "2022-09-15 17:15:33.196119: I tensorflow/compiler/mlir/mlir_graph_optimization_pass.cc:185] None of the MLIR Optimization Passes are enabled (registered 2)\n"
     ]
    },
    {
     "name": "stdout",
     "output_type": "stream",
     "text": [
      "Epoch 1/50\n",
      "262/262 [==============================] - 57s 211ms/step - loss: 1.5639 - accuracy: 0.0392 - val_loss: 1.5055 - val_accuracy: 0.0240\n",
      "Epoch 2/50\n",
      "262/262 [==============================] - 55s 210ms/step - loss: 1.4899 - accuracy: 0.0258 - val_loss: 1.4763 - val_accuracy: 0.0188\n",
      "Epoch 3/50\n",
      "262/262 [==============================] - 54s 206ms/step - loss: 1.4598 - accuracy: 0.0234 - val_loss: 1.4511 - val_accuracy: 0.0226\n",
      "Epoch 4/50\n",
      "262/262 [==============================] - 55s 209ms/step - loss: 1.4256 - accuracy: 0.0215 - val_loss: 1.4606 - val_accuracy: 0.0398\n",
      "Epoch 5/50\n",
      "262/262 [==============================] - 55s 211ms/step - loss: 1.4035 - accuracy: 0.0201 - val_loss: 1.4152 - val_accuracy: 0.0202\n",
      "Epoch 6/50\n",
      "262/262 [==============================] - 55s 211ms/step - loss: 1.3820 - accuracy: 0.0155 - val_loss: 1.4036 - val_accuracy: 0.0192\n",
      "Epoch 7/50\n",
      "262/262 [==============================] - 55s 209ms/step - loss: 1.3627 - accuracy: 0.0152 - val_loss: 1.3837 - val_accuracy: 0.0149\n",
      "Epoch 8/50\n",
      "262/262 [==============================] - 55s 211ms/step - loss: 1.3402 - accuracy: 0.0119 - val_loss: 1.3761 - val_accuracy: 0.0176\n",
      "Epoch 9/50\n",
      "262/262 [==============================] - 55s 211ms/step - loss: 1.3241 - accuracy: 0.0121 - val_loss: 1.3647 - val_accuracy: 0.0170\n",
      "Epoch 10/50\n",
      "262/262 [==============================] - 56s 212ms/step - loss: 1.3066 - accuracy: 0.0093 - val_loss: 1.3758 - val_accuracy: 0.0222\n",
      "Epoch 11/50\n",
      "262/262 [==============================] - 54s 207ms/step - loss: 1.2879 - accuracy: 0.0092 - val_loss: 1.3603 - val_accuracy: 0.0168\n",
      "Epoch 12/50\n",
      "262/262 [==============================] - 56s 216ms/step - loss: 1.2814 - accuracy: 0.0084 - val_loss: 1.3524 - val_accuracy: 0.0145\n",
      "Epoch 13/50\n",
      "262/262 [==============================] - 56s 214ms/step - loss: 1.2494 - accuracy: 0.0057 - val_loss: 1.3514 - val_accuracy: 0.0179\n",
      "Epoch 14/50\n",
      "262/262 [==============================] - 57s 216ms/step - loss: 1.2381 - accuracy: 0.0056 - val_loss: 1.3837 - val_accuracy: 0.0172\n",
      "Epoch 15/50\n",
      "262/262 [==============================] - 57s 216ms/step - loss: 1.2224 - accuracy: 0.0042 - val_loss: 1.4101 - val_accuracy: 0.0201\n",
      "Epoch 16/50\n",
      "262/262 [==============================] - 55s 210ms/step - loss: 1.2046 - accuracy: 0.0036 - val_loss: 1.3526 - val_accuracy: 0.0156\n",
      "Epoch 17/50\n",
      "262/262 [==============================] - 56s 212ms/step - loss: 1.1949 - accuracy: 0.0042 - val_loss: 1.3537 - val_accuracy: 0.0176\n",
      "Epoch 18/50\n",
      "262/262 [==============================] - 56s 212ms/step - loss: 1.1729 - accuracy: 0.0027 - val_loss: 1.3624 - val_accuracy: 0.0176\n",
      "Epoch 19/50\n",
      "262/262 [==============================] - 56s 213ms/step - loss: 1.1716 - accuracy: 0.0029 - val_loss: 1.3785 - val_accuracy: 0.0201\n",
      "Epoch 20/50\n",
      "262/262 [==============================] - 55s 209ms/step - loss: 1.1537 - accuracy: 0.0032 - val_loss: 1.3690 - val_accuracy: 0.0165\n",
      "Epoch 21/50\n",
      "262/262 [==============================] - 55s 210ms/step - loss: 1.1234 - accuracy: 0.0013 - val_loss: 1.3693 - val_accuracy: 0.0181\n",
      "Epoch 22/50\n",
      "262/262 [==============================] - 55s 212ms/step - loss: 1.1291 - accuracy: 0.0023 - val_loss: 1.3931 - val_accuracy: 0.0195\n",
      "Epoch 23/50\n",
      "262/262 [==============================] - 56s 213ms/step - loss: 1.1292 - accuracy: 0.0024 - val_loss: 1.3525 - val_accuracy: 0.0172\n",
      "Epoch 24/50\n",
      "262/262 [==============================] - 55s 209ms/step - loss: 1.0514 - accuracy: 0.0010 - val_loss: 1.3444 - val_accuracy: 0.0190\n",
      "Epoch 25/50\n",
      "262/262 [==============================] - 56s 212ms/step - loss: 1.0113 - accuracy: 5.9723e-05 - val_loss: 1.3433 - val_accuracy: 0.0176\n",
      "Epoch 26/50\n",
      "262/262 [==============================] - 55s 211ms/step - loss: 0.9892 - accuracy: 2.9861e-04 - val_loss: 1.3517 - val_accuracy: 0.0192\n",
      "Epoch 27/50\n",
      "262/262 [==============================] - 55s 212ms/step - loss: 0.9669 - accuracy: 5.9723e-05 - val_loss: 1.3512 - val_accuracy: 0.0220\n",
      "Epoch 28/50\n",
      "262/262 [==============================] - 55s 210ms/step - loss: 0.9534 - accuracy: 2.3889e-04 - val_loss: 1.3567 - val_accuracy: 0.0219\n",
      "Epoch 29/50\n",
      "262/262 [==============================] - 55s 211ms/step - loss: 0.9332 - accuracy: 1.1945e-04 - val_loss: 1.3671 - val_accuracy: 0.0229\n",
      "Epoch 30/50\n",
      "262/262 [==============================] - 56s 212ms/step - loss: 0.9115 - accuracy: 5.9723e-05 - val_loss: 1.3730 - val_accuracy: 0.0236\n",
      "Epoch 31/50\n",
      "262/262 [==============================] - 56s 213ms/step - loss: 0.8991 - accuracy: 1.7917e-04 - val_loss: 1.3802 - val_accuracy: 0.0247\n",
      "Epoch 32/50\n",
      "262/262 [==============================] - 55s 209ms/step - loss: 0.8817 - accuracy: 1.7917e-04 - val_loss: 1.3944 - val_accuracy: 0.0265\n",
      "Epoch 33/50\n",
      "262/262 [==============================] - 55s 210ms/step - loss: 0.8661 - accuracy: 1.7917e-04 - val_loss: 1.3899 - val_accuracy: 0.0271\n",
      "Epoch 34/50\n",
      "262/262 [==============================] - 56s 213ms/step - loss: 0.8457 - accuracy: 1.1945e-04 - val_loss: 1.3885 - val_accuracy: 0.0276\n",
      "Epoch 35/50\n",
      "262/262 [==============================] - 56s 213ms/step - loss: 0.8324 - accuracy: 2.3889e-04 - val_loss: 1.4045 - val_accuracy: 0.0279\n",
      "Epoch 36/50\n",
      "262/262 [==============================] - 56s 215ms/step - loss: 0.8141 - accuracy: 1.7917e-04 - val_loss: 1.4198 - val_accuracy: 0.0314\n",
      "Epoch 37/50\n",
      "262/262 [==============================] - 54s 208ms/step - loss: 0.7995 - accuracy: 1.7917e-04 - val_loss: 1.4074 - val_accuracy: 0.0308\n",
      "Epoch 38/50\n",
      "262/262 [==============================] - 56s 213ms/step - loss: 0.7816 - accuracy: 2.9861e-04 - val_loss: 1.4281 - val_accuracy: 0.0331\n",
      "Epoch 39/50\n",
      "262/262 [==============================] - 56s 213ms/step - loss: 0.7618 - accuracy: 1.1945e-04 - val_loss: 1.4314 - val_accuracy: 0.0321\n",
      "Epoch 40/50\n",
      "262/262 [==============================] - 56s 214ms/step - loss: 0.7508 - accuracy: 1.1945e-04 - val_loss: 1.4386 - val_accuracy: 0.0348\n",
      "Epoch 41/50\n",
      "262/262 [==============================] - 55s 209ms/step - loss: 0.7239 - accuracy: 1.7917e-04 - val_loss: 1.4458 - val_accuracy: 0.0333\n",
      "Epoch 42/50\n",
      "262/262 [==============================] - 56s 214ms/step - loss: 0.7099 - accuracy: 1.7917e-04 - val_loss: 1.4201 - val_accuracy: 0.0290\n",
      "Epoch 43/50\n",
      "262/262 [==============================] - 56s 213ms/step - loss: 0.6876 - accuracy: 0.0000e+00 - val_loss: 1.4643 - val_accuracy: 0.0380\n",
      "Epoch 44/50\n",
      "262/262 [==============================] - 55s 211ms/step - loss: 0.6705 - accuracy: 5.9723e-05 - val_loss: 1.4622 - val_accuracy: 0.0346\n",
      "Epoch 45/50\n",
      "262/262 [==============================] - 54s 207ms/step - loss: 0.6505 - accuracy: 5.9723e-05 - val_loss: 1.4826 - val_accuracy: 0.0369\n",
      "Epoch 46/50\n",
      "262/262 [==============================] - 55s 211ms/step - loss: 0.6418 - accuracy: 4.7778e-04 - val_loss: 1.4694 - val_accuracy: 0.0364\n",
      "Epoch 47/50\n",
      "262/262 [==============================] - 56s 212ms/step - loss: 0.6159 - accuracy: 5.9723e-05 - val_loss: 1.5027 - val_accuracy: 0.0380\n",
      "Epoch 48/50\n",
      "262/262 [==============================] - 55s 210ms/step - loss: 0.5984 - accuracy: 5.9723e-05 - val_loss: 1.5187 - val_accuracy: 0.0407\n",
      "Epoch 49/50\n",
      "262/262 [==============================] - 55s 210ms/step - loss: 0.5864 - accuracy: 1.1945e-04 - val_loss: 1.5210 - val_accuracy: 0.0385\n",
      "Epoch 50/50\n",
      "262/262 [==============================] - 56s 213ms/step - loss: 0.5672 - accuracy: 2.3889e-04 - val_loss: 1.5062 - val_accuracy: 0.0389\n"
     ]
    }
   ],
   "source": [
    "rlrp = ReduceLROnPlateau(monitor='loss', factor=0.4, verbose=0, patience=2, min_lr=0.0000001)\n",
    "history=model.fit(x_train, y_train, batch_size=64, epochs=50, validation_data=(x_test, y_test), callbacks=[rlrp])"
   ]
  },
  {
   "cell_type": "markdown",
   "id": "3525ba2f",
   "metadata": {
    "papermill": {
     "duration": 0.924578,
     "end_time": "2022-09-15T18:01:58.636492",
     "exception": false,
     "start_time": "2022-09-15T18:01:57.711914",
     "status": "completed"
    },
    "tags": []
   },
   "source": [
    "### k-fold Cross Validation"
   ]
  },
  {
   "cell_type": "code",
   "execution_count": 25,
   "id": "8f879eef",
   "metadata": {
    "execution": {
     "iopub.execute_input": "2022-09-15T18:02:00.351627Z",
     "iopub.status.busy": "2022-09-15T18:02:00.351161Z",
     "iopub.status.idle": "2022-09-15T18:02:00.356925Z",
     "shell.execute_reply": "2022-09-15T18:02:00.355714Z"
    },
    "papermill": {
     "duration": 0.89982,
     "end_time": "2022-09-15T18:02:00.359192",
     "exception": false,
     "start_time": "2022-09-15T18:01:59.459372",
     "status": "completed"
    },
    "tags": []
   },
   "outputs": [],
   "source": [
    "##### from sklearn.ensemble import RandomForestRegressor\n",
    "# md = KerasClassifier(create_model, epochs=50, batch_size=64, verbose=2)\n",
    "\n",
    "# from sklearn.pipeline import Pipeline\n",
    "# from sklearn.impute import SimpleImputer\n",
    "# from sklearn.model_selection import cross_val_score\n",
    "# from keras.wrappers.scikit_learn import KerasClassifier\n",
    "# from sklearn.model_selection import KFold\n",
    "\n",
    "# # dummy X and Y values\n",
    "# X = np.ones([22326, 162, 1])\n",
    "# Y = np.ones([22326, 6])\n",
    "\n",
    "# x_train = np.ones([16744, 162, 1])\n",
    "# y_train = np.ones([16744, 6])\n",
    "\n",
    "# x_test = np.ones([5582, 162, 1])\n",
    "# y_test = np.ones([5582, 6])\n",
    "\n",
    "# x = np.concatenate((x_train, x_test), axis=0)\n",
    "# y = np.concatenate((y_train, y_test), axis=0)"
   ]
  },
  {
   "cell_type": "code",
   "execution_count": 26,
   "id": "5107aa1e",
   "metadata": {
    "execution": {
     "iopub.execute_input": "2022-09-15T18:02:02.081866Z",
     "iopub.status.busy": "2022-09-15T18:02:02.081386Z",
     "iopub.status.idle": "2022-09-15T18:02:02.086877Z",
     "shell.execute_reply": "2022-09-15T18:02:02.085635Z"
    },
    "papermill": {
     "duration": 0.908282,
     "end_time": "2022-09-15T18:02:02.089058",
     "exception": false,
     "start_time": "2022-09-15T18:02:01.180776",
     "status": "completed"
    },
    "tags": []
   },
   "outputs": [],
   "source": [
    "# Creating a column and intiating with a dummy value\n",
    "# def cross_validate(model):\n",
    "    \n",
    "\n",
    "# # train_fold[\"kfold\"] = -1\n",
    "#     kf = KFold(n_splits=5, random_state=21, shuffle=True).get_n_splits(x)\n",
    "#     result = np.sqrt(-cross_val_score(model, x, y, scoring=\"neg_mean_squared_error\", cv=kf, fit_params={'mlp__callbacks':rlrp})))\n",
    "#     return result\n",
    "\n",
    "# cross_validate(md)\n",
    "# for fold, (trn, val) in enumerate (kf.split(x, y), 1):\n",
    "#     print('Fold {}\\n'.format(fold))\n",
    "#     X_train, X_test = X[trn], X[val]\n",
    "#     y_train, y_test = y[trn], y[val]\n",
    "\n",
    "# train_fold.sample(5)\n",
    "\n",
    "# estimators = []\n",
    "# # estimators.append(('standardize', StandardScaler()))\n",
    "\n",
    "# kfold = StratifiedKFold(n_splits=3, shuffle=True, random_state=7)"
   ]
  },
  {
   "cell_type": "code",
   "execution_count": 27,
   "id": "98b940fa",
   "metadata": {
    "execution": {
     "iopub.execute_input": "2022-09-15T18:02:03.866527Z",
     "iopub.status.busy": "2022-09-15T18:02:03.864903Z",
     "iopub.status.idle": "2022-09-15T18:02:03.870613Z",
     "shell.execute_reply": "2022-09-15T18:02:03.869734Z"
    },
    "papermill": {
     "duration": 0.961539,
     "end_time": "2022-09-15T18:02:03.872508",
     "exception": false,
     "start_time": "2022-09-15T18:02:02.910969",
     "status": "completed"
    },
    "tags": []
   },
   "outputs": [],
   "source": [
    "# X = np.ones([22326, 162, 1])\n",
    "# encoded_Y = np.ones([22326, 6])\n",
    "# results = cross_val_score(md, X, encoded_Y, cv=kfold, \n",
    "#           fit_params={'mlp__callbacks':rlrp})"
   ]
  },
  {
   "cell_type": "code",
   "execution_count": 28,
   "id": "4603e774",
   "metadata": {
    "execution": {
     "iopub.execute_input": "2022-09-15T18:02:05.606517Z",
     "iopub.status.busy": "2022-09-15T18:02:05.605161Z",
     "iopub.status.idle": "2022-09-15T18:02:05.610359Z",
     "shell.execute_reply": "2022-09-15T18:02:05.609646Z"
    },
    "papermill": {
     "duration": 0.916209,
     "end_time": "2022-09-15T18:02:05.612550",
     "exception": false,
     "start_time": "2022-09-15T18:02:04.696341",
     "status": "completed"
    },
    "tags": []
   },
   "outputs": [],
   "source": [
    "# from sklearn.model_selection import cross_val_score\n",
    "\n",
    "# # Multiply by -1 since sklearn calculates *negative* MAE\n",
    "# scores = -1 * cross_val_score(my_pipeline, x, y,\n",
    "#                               cv=3,\n",
    "#                               scoring='neg_mean_absolute_error')\n",
    "\n",
    "# print(\"Average MAE score:\", scores.mean())"
   ]
  },
  {
   "cell_type": "markdown",
   "id": "a27581f2",
   "metadata": {
    "papermill": {
     "duration": 0.823689,
     "end_time": "2022-09-15T18:02:07.251375",
     "exception": false,
     "start_time": "2022-09-15T18:02:06.427686",
     "status": "completed"
    },
    "tags": []
   },
   "source": [
    "### Evaluation"
   ]
  },
  {
   "cell_type": "code",
   "execution_count": 29,
   "id": "b9ce3f36",
   "metadata": {
    "execution": {
     "iopub.execute_input": "2022-09-15T18:02:08.964880Z",
     "iopub.status.busy": "2022-09-15T18:02:08.963424Z",
     "iopub.status.idle": "2022-09-15T18:02:14.603655Z",
     "shell.execute_reply": "2022-09-15T18:02:14.602386Z"
    },
    "papermill": {
     "duration": 6.466959,
     "end_time": "2022-09-15T18:02:14.606849",
     "exception": false,
     "start_time": "2022-09-15T18:02:08.139890",
     "status": "completed"
    },
    "tags": []
   },
   "outputs": [
    {
     "name": "stdout",
     "output_type": "stream",
     "text": [
      "175/175 [==============================] - 5s 29ms/step - loss: 1.5062 - accuracy: 0.0389\n",
      "Accuracy of our model on test data :  3.8874953985214233 %\n"
     ]
    },
    {
     "data": {
      "image/png": "[encoded data removed]",
      "text/plain": [
       "<Figure size 1440x432 with 2 Axes>"
      ]
     },
     "metadata": {
      "needs_background": "light"
     },
     "output_type": "display_data"
    }
   ],
   "source": [
    "print(\"Accuracy of our model on test data : \" , model.evaluate(x_test,y_test)[1]*100 , \"%\")\n",
    "\n",
    "epochs = [i for i in range(50)]\n",
    "fig , ax = plt.subplots(1,2)\n",
    "train_acc = history.history['accuracy']\n",
    "train_loss = history.history['loss']\n",
    "test_acc = history.history['val_accuracy']\n",
    "test_loss = history.history['val_loss']\n",
    "\n",
    "fig.set_size_inches(20,6)\n",
    "ax[0].plot(epochs , train_loss , label = 'Training Loss')\n",
    "ax[0].plot(epochs , test_loss , label = 'Testing Loss')\n",
    "ax[0].set_title('Training & Testing Loss')\n",
    "ax[0].legend()\n",
    "ax[0].set_xlabel(\"Epochs\")\n",
    "\n",
    "ax[1].plot(epochs , train_acc , label = 'Training Accuracy')\n",
    "ax[1].plot(epochs , test_acc , label = 'Testing Accuracy')\n",
    "ax[1].set_title('Training & Testing Accuracy')\n",
    "ax[1].legend()\n",
    "ax[1].set_xlabel(\"Epochs\")\n",
    "plt.show()"
   ]
  },
  {
   "cell_type": "code",
   "execution_count": 30,
   "id": "ec175487",
   "metadata": {
    "execution": {
     "iopub.execute_input": "2022-09-15T18:02:16.387361Z",
     "iopub.status.busy": "2022-09-15T18:02:16.386468Z",
     "iopub.status.idle": "2022-09-15T18:02:21.678549Z",
     "shell.execute_reply": "2022-09-15T18:02:21.677626Z"
    },
    "papermill": {
     "duration": 6.128262,
     "end_time": "2022-09-15T18:02:21.681217",
     "exception": false,
     "start_time": "2022-09-15T18:02:15.552955",
     "status": "completed"
    },
    "tags": []
   },
   "outputs": [],
   "source": [
    "# predicting on test data.\n",
    "pred_test = model.predict(x_test)\n",
    "y_pred = encoder.inverse_transform(pred_test)\n",
    "\n",
    "y_test = encoder.inverse_transform(y_test)"
   ]
  },
  {
   "cell_type": "code",
   "execution_count": 31,
   "id": "8a92f38d",
   "metadata": {
    "execution": {
     "iopub.execute_input": "2022-09-15T18:02:23.423248Z",
     "iopub.status.busy": "2022-09-15T18:02:23.422805Z",
     "iopub.status.idle": "2022-09-15T18:02:23.440529Z",
     "shell.execute_reply": "2022-09-15T18:02:23.439307Z"
    },
    "papermill": {
     "duration": 0.852607,
     "end_time": "2022-09-15T18:02:23.443364",
     "exception": false,
     "start_time": "2022-09-15T18:02:22.590757",
     "status": "completed"
    },
    "tags": []
   },
   "outputs": [
    {
     "data": {
      "text/html": [
       "<div>\n",
       "<style scoped>\n",
       "    .dataframe tbody tr th:only-of-type {\n",
       "        vertical-align: middle;\n",
       "    }\n",
       "\n",
       "    .dataframe tbody tr th {\n",
       "        vertical-align: top;\n",
       "    }\n",
       "\n",
       "    .dataframe thead th {\n",
       "        text-align: right;\n",
       "    }\n",
       "</style>\n",
       "<table border=\"1\" class=\"dataframe\">\n",
       "  <thead>\n",
       "    <tr style=\"text-align: right;\">\n",
       "      <th></th>\n",
       "      <th>Predicted Labels</th>\n",
       "      <th>Actual Labels</th>\n",
       "    </tr>\n",
       "  </thead>\n",
       "  <tbody>\n",
       "    <tr>\n",
       "      <th>0</th>\n",
       "      <td>disgust</td>\n",
       "      <td>fear</td>\n",
       "    </tr>\n",
       "    <tr>\n",
       "      <th>1</th>\n",
       "      <td>fear</td>\n",
       "      <td>happy</td>\n",
       "    </tr>\n",
       "    <tr>\n",
       "      <th>2</th>\n",
       "      <td>happy</td>\n",
       "      <td>sad</td>\n",
       "    </tr>\n",
       "    <tr>\n",
       "      <th>3</th>\n",
       "      <td>fear</td>\n",
       "      <td>neutral</td>\n",
       "    </tr>\n",
       "    <tr>\n",
       "      <th>4</th>\n",
       "      <td>sad</td>\n",
       "      <td>disgust</td>\n",
       "    </tr>\n",
       "    <tr>\n",
       "      <th>5</th>\n",
       "      <td>angry</td>\n",
       "      <td>neutral</td>\n",
       "    </tr>\n",
       "    <tr>\n",
       "      <th>6</th>\n",
       "      <td>happy</td>\n",
       "      <td>angry</td>\n",
       "    </tr>\n",
       "    <tr>\n",
       "      <th>7</th>\n",
       "      <td>neutral</td>\n",
       "      <td>sad</td>\n",
       "    </tr>\n",
       "    <tr>\n",
       "      <th>8</th>\n",
       "      <td>happy</td>\n",
       "      <td>neutral</td>\n",
       "    </tr>\n",
       "    <tr>\n",
       "      <th>9</th>\n",
       "      <td>angry</td>\n",
       "      <td>sad</td>\n",
       "    </tr>\n",
       "  </tbody>\n",
       "</table>\n",
       "</div>"
      ],
      "text/plain": [
       "  Predicted Labels Actual Labels\n",
       "0          disgust          fear\n",
       "1             fear         happy\n",
       "2            happy           sad\n",
       "3             fear       neutral\n",
       "4              sad       disgust\n",
       "5            angry       neutral\n",
       "6            happy         angry\n",
       "7          neutral           sad\n",
       "8            happy       neutral\n",
       "9            angry           sad"
      ]
     },
     "execution_count": 31,
     "metadata": {},
     "output_type": "execute_result"
    }
   ],
   "source": [
    "df = pd.DataFrame(columns=['Predicted Labels', 'Actual Labels'])\n",
    "df['Predicted Labels'] = y_pred.flatten()\n",
    "df['Actual Labels'] = y_test.flatten()\n",
    "\n",
    "df.head(10)"
   ]
  },
  {
   "cell_type": "code",
   "execution_count": 32,
   "id": "c69f2c05",
   "metadata": {
    "execution": {
     "iopub.execute_input": "2022-09-15T18:02:25.169664Z",
     "iopub.status.busy": "2022-09-15T18:02:25.168811Z",
     "iopub.status.idle": "2022-09-15T18:02:25.664155Z",
     "shell.execute_reply": "2022-09-15T18:02:25.662907Z"
    },
    "papermill": {
     "duration": 1.328378,
     "end_time": "2022-09-15T18:02:25.667277",
     "exception": false,
     "start_time": "2022-09-15T18:02:24.338899",
     "status": "completed"
    },
    "tags": []
   },
   "outputs": [
    {
     "data": {
      "image/png": "[encoded data removed]",
      "text/plain": [
       "<Figure size 864x720 with 2 Axes>"
      ]
     },
     "metadata": {
      "needs_background": "light"
     },
     "output_type": "display_data"
    }
   ],
   "source": [
    "cm = confusion_matrix(y_test, y_pred)\n",
    "plt.figure(figsize = (12, 10))\n",
    "cm = pd.DataFrame(cm , index = [i for i in encoder.categories_] , columns = [i for i in encoder.categories_])\n",
    "sns.heatmap(cm, linecolor='white', cmap='Blues', linewidth=1, annot=True, fmt='')\n",
    "plt.title('Confusion Matrix', size=20)\n",
    "plt.xlabel('Predicted Labels', size=14)\n",
    "plt.ylabel('Actual Labels', size=14)\n",
    "plt.show()"
   ]
  },
  {
   "cell_type": "code",
   "execution_count": 33,
   "id": "d6d5d95a",
   "metadata": {
    "execution": {
     "iopub.execute_input": "2022-09-15T18:02:27.437929Z",
     "iopub.status.busy": "2022-09-15T18:02:27.437128Z",
     "iopub.status.idle": "2022-09-15T18:02:27.583153Z",
     "shell.execute_reply": "2022-09-15T18:02:27.581989Z"
    },
    "papermill": {
     "duration": 1.047624,
     "end_time": "2022-09-15T18:02:27.585319",
     "exception": false,
     "start_time": "2022-09-15T18:02:26.537695",
     "status": "completed"
    },
    "tags": []
   },
   "outputs": [
    {
     "name": "stdout",
     "output_type": "stream",
     "text": [
      "              precision    recall  f1-score   support\n",
      "\n",
      "       angry       0.02      0.02      0.02       938\n",
      "     disgust       0.05      0.04      0.05       934\n",
      "        fear       0.05      0.05      0.05       960\n",
      "       happy       0.04      0.04      0.04       967\n",
      "     neutral       0.03      0.04      0.03       857\n",
      "         sad       0.04      0.05      0.05       926\n",
      "\n",
      "    accuracy                           0.04      5582\n",
      "   macro avg       0.04      0.04      0.04      5582\n",
      "weighted avg       0.04      0.04      0.04      5582\n",
      "\n"
     ]
    }
   ],
   "source": [
    "print(classification_report(y_test, y_pred))"
   ]
  }
 ],
 "metadata": {
  "kernelspec": {
   "display_name": "Python 3",
   "language": "python",
   "name": "python3"
  },
  "language_info": {
   "codemirror_mode": {
    "name": "ipython",
    "version": 3
   },
   "file_extension": ".py",
   "mimetype": "text/x-python",
   "name": "python",
   "nbconvert_exporter": "python",
   "pygments_lexer": "ipython3",
   "version": "3.7.12"
  },
  "papermill": {
   "default_parameters": {},
   "duration": 5313.173428,
   "end_time": "2022-09-15T18:02:31.696535",
   "environment_variables": {},
   "exception": null,
   "input_path": "__notebook__.ipynb",
   "output_path": "__notebook__.ipynb",
   "parameters": {},
   "start_time": "2022-09-15T16:33:58.523107",
   "version": "2.3.4"
  }
 },
 "nbformat": 4,
 "nbformat_minor": 5
}
